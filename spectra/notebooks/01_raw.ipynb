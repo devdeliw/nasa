{
 "cells": [
  {
   "cell_type": "code",
   "execution_count": 1,
   "id": "ee259471-5ebc-421b-b10d-467e8261f10f",
   "metadata": {},
   "outputs": [],
   "source": [
    "# Images \n",
    "# Assumes notebook was launched from ~/nasa/ or ~/nasa/notebooks/"
   ]
  },
  {
   "cell_type": "code",
   "execution_count": 2,
   "id": "148811b4-020f-42c9-8df0-bc8d181b0bc3",
   "metadata": {},
   "outputs": [],
   "source": [
    "import os\n",
    "import pickle \n",
    "import pandas \n",
    "import logging\n",
    "import numpy as np \n",
    "import matplotlib.pyplot as plt\n",
    "from pathlib import Path\n",
    "\n",
    "plt.ioff()                       # prevent figure display \n",
    "logger = logging.getLogger()     # logging for info \n",
    "logger.setLevel(logging.INFO)    \n",
    "PROJECT_ROOT = Path().resolve().parent # root directory "
   ]
  },
  {
   "cell_type": "code",
   "execution_count": 3,
   "id": "d122db3b-f79a-423a-92d0-79c67827cf80",
   "metadata": {},
   "outputs": [],
   "source": [
    "class Raw(): \n",
    "    def __init__(self, file_dir: str): \n",
    "        self.file_dir = file_dir \n",
    "        self.root_dir = PROJECT_ROOT / \"data\" / \"raw\" \n",
    "        \n",
    "        if file_dir: \n",
    "            with open(file_dir, \"rb\") as f: \n",
    "                self.data = pickle.load(f)\n",
    "\n",
    "    def output(self): \n",
    "        logging.info(self.data) \n",
    "        print(f\"Number of Data Points  : {len(self.data):>3}\") \n",
    "        print(f\"Number of Valid Points : {len(self.data.dropna()):>3}\")\n",
    "        return \n",
    "        \n",
    "    def plot(self, save=True, show=False): \n",
    "        mag = self.data.iloc[:, 0]\n",
    "        amp = self.data.iloc[:, 1] \n",
    "\n",
    "        fig, axis = plt.subplots(1, 1, figsize=(10, 8)) \n",
    "        plt.scatter(mag, amp, c='k', marker='+', s=10)\n",
    "\n",
    "        plt.xlabel(\"Magnetic Flux Density (G)\", fontsize=14) \n",
    "        plt.ylabel(\"Spin Current (nA)\", fontsize=14) \n",
    "\n",
    "        base_name = os.path.basename(self.file_dir) \n",
    "        title     = os.path.splitext(base_name)[0]\n",
    "        plt.title(title, fontsize=14) \n",
    "\n",
    "        if show: \n",
    "            plt.show() \n",
    "        if save: \n",
    "            # Saves to raw/plots/ \n",
    "            plot_name = title + \".png\"\n",
    "            os.makedirs(self.root_dir, exist_ok=True) \n",
    "            plt.savefig(f\"{self.root_dir}/plots/{plot_name}\", dpi=300)\n",
    "            logging.info(f\" Plot saved to {self.root_dir}/plots/{plot_name}\")\n",
    "        plt.close() \n",
    "        return \n",
    "\n",
    "    def render_all(self, show=False): \n",
    "        spectra = [ \n",
    "            os.path.join(self.root_dir, fname)\n",
    "            for fname in os.listdir(self.root_dir)\n",
    "            if (\n",
    "                not fname.startswith(\".\")            # prevent .DS_Store\n",
    "                and fname.lower().endswith(\".pkl\")   # only pkls\n",
    "                and os.path.isfile(os.path.join(self.root_dir, fname))\n",
    "            )\n",
    "        ]\n",
    "\n",
    "        for file in spectra: \n",
    "            Raw(file).plot(save=True, show=False) \n",
    "        return "
   ]
  },
  {
   "cell_type": "code",
   "execution_count": 17,
   "id": "5c3df4f1-98d6-4e86-89ee-8725be262f22",
   "metadata": {},
   "outputs": [],
   "source": [
    "# Run for every file in ~/nasa/data/raw/... "
   ]
  },
  {
   "cell_type": "code",
   "execution_count": 18,
   "id": "dc353cc7-70b5-4c10-876e-514097366946",
   "metadata": {},
   "outputs": [
    {
     "name": "stderr",
     "output_type": "stream",
     "text": [
      "INFO:root: Plot saved to /Users/devaldeliwala/nasa/data/raw/plots/[NZFMR]_DER_1.5G_3V.png\n",
      "INFO:root: Plot saved to /Users/devaldeliwala/nasa/data/raw/plots/[EDMR]_2G_4V_200MHz.png\n",
      "INFO:root: Plot saved to /Users/devaldeliwala/nasa/data/raw/plots/[NZFMR]_1.5G_3V.png\n",
      "INFO:root: Plot saved to /Users/devaldeliwala/nasa/data/raw/plots/[NZFMR]_1.5G_2.5V.png\n",
      "INFO:root: Plot saved to /Users/devaldeliwala/nasa/data/raw/plots/[NZFMR]_DER_1.5G_2.5V.png\n",
      "INFO:root: Plot saved to /Users/devaldeliwala/nasa/data/raw/plots/[EDMR]_DER_2G_3V.png\n",
      "INFO:root: Plot saved to /Users/devaldeliwala/nasa/data/raw/plots/[EDMR]_2G_3V_200MHz.png\n",
      "INFO:root: Plot saved to /Users/devaldeliwala/nasa/data/raw/plots/[EDMR]_DER_2G_4V.png\n"
     ]
    }
   ],
   "source": [
    "Raw(None).render_all(show=True)"
   ]
  },
  {
   "cell_type": "code",
   "execution_count": 4,
   "id": "eae677b8-eec8-49d0-89c6-f08a5a671400",
   "metadata": {},
   "outputs": [],
   "source": [
    "filename = PROJECT_ROOT / \"data\" / \"raw\" / \"[EDMR]_2G_3V_200MHz.pkl\"\n",
    "\n",
    "with open(filename, \"rb\") as f: \n",
    "    spectra = pickle.load(f)"
   ]
  },
  {
   "cell_type": "code",
   "execution_count": 10,
   "id": "61df680a-35ef-4974-ab2e-0f1e27c9ccf9",
   "metadata": {},
   "outputs": [
    {
     "data": {
      "text/html": [
       "<div>\n",
       "<style scoped>\n",
       "    .dataframe tbody tr th:only-of-type {\n",
       "        vertical-align: middle;\n",
       "    }\n",
       "\n",
       "    .dataframe tbody tr th {\n",
       "        vertical-align: top;\n",
       "    }\n",
       "\n",
       "    .dataframe thead th {\n",
       "        text-align: right;\n",
       "    }\n",
       "</style>\n",
       "<table border=\"1\" class=\"dataframe\">\n",
       "  <thead>\n",
       "    <tr style=\"text-align: right;\">\n",
       "      <th></th>\n",
       "      <th>B (Gauss)</th>\n",
       "      <th>I (nA)</th>\n",
       "    </tr>\n",
       "  </thead>\n",
       "  <tbody>\n",
       "    <tr>\n",
       "      <th>0</th>\n",
       "      <td>-85.00000</td>\n",
       "      <td>0.000000</td>\n",
       "    </tr>\n",
       "    <tr>\n",
       "      <th>1</th>\n",
       "      <td>-84.95849</td>\n",
       "      <td>0.007848</td>\n",
       "    </tr>\n",
       "    <tr>\n",
       "      <th>2</th>\n",
       "      <td>-84.91697</td>\n",
       "      <td>-0.224860</td>\n",
       "    </tr>\n",
       "    <tr>\n",
       "      <th>3</th>\n",
       "      <td>-84.87546</td>\n",
       "      <td>1.870619</td>\n",
       "    </tr>\n",
       "    <tr>\n",
       "      <th>4</th>\n",
       "      <td>-84.83394</td>\n",
       "      <td>1.837481</td>\n",
       "    </tr>\n",
       "    <tr>\n",
       "      <th>...</th>\n",
       "      <td>...</td>\n",
       "      <td>...</td>\n",
       "    </tr>\n",
       "    <tr>\n",
       "      <th>4091</th>\n",
       "      <td>84.83394</td>\n",
       "      <td>5.257556</td>\n",
       "    </tr>\n",
       "    <tr>\n",
       "      <th>4092</th>\n",
       "      <td>84.87546</td>\n",
       "      <td>5.314896</td>\n",
       "    </tr>\n",
       "    <tr>\n",
       "      <th>4093</th>\n",
       "      <td>84.91697</td>\n",
       "      <td>5.351929</td>\n",
       "    </tr>\n",
       "    <tr>\n",
       "      <th>4094</th>\n",
       "      <td>84.95849</td>\n",
       "      <td>5.432115</td>\n",
       "    </tr>\n",
       "    <tr>\n",
       "      <th>4095</th>\n",
       "      <td>85.00000</td>\n",
       "      <td>5.513208</td>\n",
       "    </tr>\n",
       "  </tbody>\n",
       "</table>\n",
       "<p>4096 rows × 2 columns</p>\n",
       "</div>"
      ],
      "text/plain": [
       "      B (Gauss)    I (nA)\n",
       "0     -85.00000  0.000000\n",
       "1     -84.95849  0.007848\n",
       "2     -84.91697 -0.224860\n",
       "3     -84.87546  1.870619\n",
       "4     -84.83394  1.837481\n",
       "...         ...       ...\n",
       "4091   84.83394  5.257556\n",
       "4092   84.87546  5.314896\n",
       "4093   84.91697  5.351929\n",
       "4094   84.95849  5.432115\n",
       "4095   85.00000  5.513208\n",
       "\n",
       "[4096 rows x 2 columns]"
      ]
     },
     "execution_count": 10,
     "metadata": {},
     "output_type": "execute_result"
    }
   ],
   "source": [
    "spectra"
   ]
  },
  {
   "cell_type": "code",
   "execution_count": null,
   "id": "e304140a-9c53-40fb-b01a-19968520d623",
   "metadata": {},
   "outputs": [],
   "source": []
  }
 ],
 "metadata": {
  "kernelspec": {
   "display_name": "nasa",
   "language": "python",
   "name": "myenv"
  },
  "language_info": {
   "codemirror_mode": {
    "name": "ipython",
    "version": 3
   },
   "file_extension": ".py",
   "mimetype": "text/x-python",
   "name": "python",
   "nbconvert_exporter": "python",
   "pygments_lexer": "ipython3",
   "version": "3.12.10"
  }
 },
 "nbformat": 4,
 "nbformat_minor": 5
}
