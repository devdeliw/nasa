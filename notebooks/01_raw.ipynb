{
 "cells": [
  {
   "cell_type": "code",
   "execution_count": 1,
   "id": "ee259471-5ebc-421b-b10d-467e8261f10f",
   "metadata": {},
   "outputs": [],
   "source": [
    "# Images \n",
    "# Assumes notebook was launched from ~/nasa/ or ~/nasa/notebooks/"
   ]
  },
  {
   "cell_type": "code",
   "execution_count": 6,
   "id": "148811b4-020f-42c9-8df0-bc8d181b0bc3",
   "metadata": {},
   "outputs": [],
   "source": [
    "import os\n",
    "import pickle \n",
    "import pandas \n",
    "import logging\n",
    "import numpy as np \n",
    "import matplotlib.pyplot as plt\n",
    "from pathlib import Path\n",
    "\n",
    "plt.ioff()                       # prevent figure display \n",
    "logger = logging.getLogger()     # logging for info \n",
    "logger.setLevel(logging.INFO)    \n",
    "PROJECT_ROOT = Path().resolve().parent # root directory "
   ]
  },
  {
   "cell_type": "code",
   "execution_count": 8,
   "id": "d122db3b-f79a-423a-92d0-79c67827cf80",
   "metadata": {},
   "outputs": [],
   "source": [
    "class Raw(): \n",
    "    def __init__(self, file_dir: str): \n",
    "        self.file_dir = file_dir \n",
    "        self.root_dir = PROJECT_ROOT / \"data\" / \"raw\" \n",
    "        \n",
    "        if file_dir: \n",
    "            with open(file_dir, \"rb\") as f: \n",
    "                self.data = pickle.load(f)\n",
    "\n",
    "    def output(self): \n",
    "        logging.info(self.data) \n",
    "        print(f\"Number of Data Points  : {len(self.data):>3}\") \n",
    "        print(f\"Number of Valid Points : {len(self.data.dropna()):>3}\")\n",
    "        return \n",
    "        \n",
    "    def plot(self, save=True, show=False): \n",
    "        mag = self.data.iloc[:, 0]\n",
    "        amp = self.data.iloc[:, 1] \n",
    "\n",
    "        fig, axis = plt.subplots(1, 1, figsize=(10, 8)) \n",
    "        plt.scatter(mag, amp, c='k', marker='+', s=10)\n",
    "\n",
    "        plt.xlabel(\"Magnetic Flux Density (G)\", fontsize=14) \n",
    "        plt.ylabel(\"Spin Current (nA)\", fontsize=14) \n",
    "\n",
    "        base_name = os.path.basename(self.file_dir) \n",
    "        title     = os.path.splitext(base_name)[0]\n",
    "        plt.title(title, fontsize=14) \n",
    "\n",
    "        if show: \n",
    "            plt.show() \n",
    "        if save: \n",
    "            # Saves to raw/plots/ \n",
    "            plot_name = title + \".png\"\n",
    "            os.makedirs(self.root_dir, exist_ok=True) \n",
    "            plt.savefig(f\"{self.root_dir}/plots/{plot_name}\", dpi=300)\n",
    "            logging.info(f\" Plot saved to {self.root_dir}/plots/{plot_name}\")\n",
    "        plt.close() \n",
    "        return \n",
    "\n",
    "    def render_all(self): \n",
    "        spectra = [ \n",
    "            os.path.join(self.root_dir, fname)\n",
    "            for fname in os.listdir(self.root_dir)\n",
    "            if (\n",
    "                not fname.startswith(\".\")            # prevent .DS_Store\n",
    "                and fname.lower().endswith(\".pkl\")   # only pkls\n",
    "                and os.path.isfile(os.path.join(self.root_dir, fname))\n",
    "            )\n",
    "        ]\n",
    "\n",
    "        for file in spectra: \n",
    "            Raw(file).plot(save=True) \n",
    "        return "
   ]
  },
  {
   "cell_type": "code",
   "execution_count": 9,
   "id": "5c3df4f1-98d6-4e86-89ee-8725be262f22",
   "metadata": {},
   "outputs": [],
   "source": [
    "# Run for every file in ~/nasa/data/raw/... "
   ]
  },
  {
   "cell_type": "code",
   "execution_count": 10,
   "id": "dc353cc7-70b5-4c10-876e-514097366946",
   "metadata": {},
   "outputs": [
    {
     "name": "stderr",
     "output_type": "stream",
     "text": [
      "INFO:root: Plot saved to /Users/devaldeliwala/nasa/data/raw/plots/[NZFMR]_DER_1.5G_3V.png\n",
      "INFO:root: Plot saved to /Users/devaldeliwala/nasa/data/raw/plots/[EDMR]_2G_4V_200MHz.png\n",
      "INFO:root: Plot saved to /Users/devaldeliwala/nasa/data/raw/plots/[NZFMR]_1.5G_3V.png\n",
      "INFO:root: Plot saved to /Users/devaldeliwala/nasa/data/raw/plots/[NZFMR]_1.5G_2.5V.png\n",
      "INFO:root: Plot saved to /Users/devaldeliwala/nasa/data/raw/plots/[NZFMR]_DER_1.5G_2.5V.png\n",
      "INFO:root: Plot saved to /Users/devaldeliwala/nasa/data/raw/plots/[EDMR]_DER_2G_3V.png\n",
      "INFO:root: Plot saved to /Users/devaldeliwala/nasa/data/raw/plots/[EDMR]_2G_3V_200MHz.png\n",
      "INFO:root: Plot saved to /Users/devaldeliwala/nasa/data/raw/plots/[EDMR]_DER_2G_4V.png\n"
     ]
    }
   ],
   "source": [
    "Raw(None).render_all()"
   ]
  }
 ],
 "metadata": {
  "kernelspec": {
   "display_name": "nasa",
   "language": "python",
   "name": "myenv"
  },
  "language_info": {
   "codemirror_mode": {
    "name": "ipython",
    "version": 3
   },
   "file_extension": ".py",
   "mimetype": "text/x-python",
   "name": "python",
   "nbconvert_exporter": "python",
   "pygments_lexer": "ipython3",
   "version": "3.12.10"
  }
 },
 "nbformat": 4,
 "nbformat_minor": 5
}
